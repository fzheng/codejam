{
 "cells": [
  {
   "cell_type": "code",
   "execution_count": 17,
   "metadata": {
    "collapsed": false
   },
   "outputs": [],
   "source": [
    "class AbstractQuickSort(object):\n",
    "    def run(self):\n",
    "        f = open(\"QuickSort.txt\", \"r\")\n",
    "        source = [int(line) for line in f]\n",
    "        f.close()\n",
    "        print self.partition(source, 0, len(source)-1)\n",
    "\n",
    "    def partition(self, A, l, r):\n",
    "        if l >= r:\n",
    "            return 0\n",
    "        self.choose_pivot(A, l, r)\n",
    "        p = A[l]\n",
    "        i = l + 1\n",
    "        for j in xrange(l+1, r+1):\n",
    "            if A[j] < p:\n",
    "                A[i], A[j] = A[j], A[i]\n",
    "                i += 1\n",
    "        q = i-1\n",
    "        A[l], A[q] = A[q], A[l]\n",
    "        return (r-l) + self.partition(A, l, q-1) + self.partition(A, q+1, r)\n",
    "\n",
    "    def choose_pivot(self, A, l, r):\n",
    "        raise NotImplementedError()"
   ]
  },
  {
   "cell_type": "code",
   "execution_count": 18,
   "metadata": {
    "collapsed": false
   },
   "outputs": [
    {
     "name": "stdout",
     "output_type": "stream",
     "text": [
      "162085\n"
     ]
    }
   ],
   "source": [
    "class Question1(AbstractQuickSort):\n",
    "    def choose_pivot(self, A, l, r):\n",
    "        pass\n",
    "\n",
    "Question1().run()"
   ]
  },
  {
   "cell_type": "code",
   "execution_count": 19,
   "metadata": {
    "collapsed": false
   },
   "outputs": [
    {
     "name": "stdout",
     "output_type": "stream",
     "text": [
      "164123\n"
     ]
    }
   ],
   "source": [
    "class Question2(AbstractQuickSort):\n",
    "    def choose_pivot(self, A, l, r):\n",
    "        A[l], A[r] = A[r], A[l]\n",
    "\n",
    "Question2().run()"
   ]
  },
  {
   "cell_type": "code",
   "execution_count": 20,
   "metadata": {
    "collapsed": false
   },
   "outputs": [
    {
     "name": "stdout",
     "output_type": "stream",
     "text": [
      "138382\n"
     ]
    }
   ],
   "source": [
    "class Question3(AbstractQuickSort):\n",
    "    def choose_pivot(self, A, l, r):\n",
    "        mid = (l+r)//2\n",
    "        if A[l] < A[mid] < A[r] or A[r] < A[mid] < A[l]:\n",
    "            A[l], A[mid] = A[mid], A[l]\n",
    "        elif A[l] < A[r] < A[mid] or A[mid] < A[r] < A[l]:\n",
    "            A[l], A[r] = A[r], A[l]\n",
    "\n",
    "Question3().run()"
   ]
  },
  {
   "cell_type": "code",
   "execution_count": null,
   "metadata": {
    "collapsed": true
   },
   "outputs": [],
   "source": []
  }
 ],
 "metadata": {
  "kernelspec": {
   "display_name": "Python 2",
   "language": "python",
   "name": "python2"
  },
  "language_info": {
   "codemirror_mode": {
    "name": "ipython",
    "version": 2
   },
   "file_extension": ".py",
   "mimetype": "text/x-python",
   "name": "python",
   "nbconvert_exporter": "python",
   "pygments_lexer": "ipython2",
   "version": "2.7.10"
  }
 },
 "nbformat": 4,
 "nbformat_minor": 0
}
