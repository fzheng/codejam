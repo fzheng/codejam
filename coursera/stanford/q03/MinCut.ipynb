{
 "cells": [
  {
   "cell_type": "code",
   "execution_count": 32,
   "metadata": {
    "collapsed": true
   },
   "outputs": [],
   "source": [
    "import random, sys, math\n",
    "\n",
    "class MinCut(object):\n",
    "    def run(self):\n",
    "        f = open(\"kargerMinCut.txt\", \"r\")\n",
    "        source = [[int(n)-1 for n in line.split()][1:] for line in f]\n",
    "        f.close()\n",
    "        min_cut = sys.maxsize\n",
    "        n = len(source)\n",
    "        N = int(n*n*math.log(n))\n",
    "        while N > 0:\n",
    "            res = self.random_contraction(n, source)\n",
    "            if res < min_cut:\n",
    "                min_cut = res\n",
    "            if N%10000 == 0:\n",
    "                print \"min_cut=%d, N=%d\"%(min_cut, N)\n",
    "            N -= 1\n",
    "        return min_cut\n",
    "\n",
    "    def random_contraction(self, n, src):\n",
    "        v = [_ for _ in xrange(n)]\n",
    "        edges = [_[:] for _ in src]\n",
    "        end = n-1\n",
    "        while end > 1:\n",
    "            i = random.randint(0, end)\n",
    "            v[0], v[i] = v[i], v[0]\n",
    "            j = random.randint(1, end)\n",
    "            v[end], v[j] = v[j], v[end]\n",
    "            p = v[i]\n",
    "            q = v[j]\n",
    "            edges[p] += edges[q]\n",
    "            edges[q] = []\n",
    "            for x in edges:\n",
    "                for i in xrange(len(x)):\n",
    "                    if x[i] == q:\n",
    "                        x[i] = p\n",
    "            edges[p] = [x for x in edges[p] if x != p]\n",
    "            end -= 1\n",
    "        for x in edges:\n",
    "            if x:\n",
    "                return len(x)\n",
    "        raise \"Something went wrong\""
   ]
  },
  {
   "cell_type": "code",
   "execution_count": null,
   "metadata": {
    "collapsed": false
   },
   "outputs": [],
   "source": [
    "MinCut().run()"
   ]
  },
  {
   "cell_type": "code",
   "execution_count": null,
   "metadata": {
    "collapsed": true
   },
   "outputs": [],
   "source": []
  }
 ],
 "metadata": {
  "kernelspec": {
   "display_name": "Python 2",
   "language": "python",
   "name": "python2"
  },
  "language_info": {
   "codemirror_mode": {
    "name": "ipython",
    "version": 2
   },
   "file_extension": ".py",
   "mimetype": "text/x-python",
   "name": "python",
   "nbconvert_exporter": "python",
   "pygments_lexer": "ipython2",
   "version": "2.7.6"
  }
 },
 "nbformat": 4,
 "nbformat_minor": 0
}
