{
 "cells": [
  {
   "cell_type": "code",
   "execution_count": 21,
   "metadata": {
    "collapsed": true
   },
   "outputs": [],
   "source": [
    "import random, sys, math\n",
    "\n",
    "class MinCut(object):\n",
    "    def run(self):\n",
    "        f = open(\"kargerMinCut.txt\", \"r\")\n",
    "        source = [[int(n)-1 for n in line.split()][1:] for line in f]\n",
    "        f.close()\n",
    "        min_cut = sys.maxsize\n",
    "        n = len(source)\n",
    "        N = n*n #int(n*n*math.log(n))\n",
    "        for _ in range(N):\n",
    "            res = self.random_contraction(source)\n",
    "            if res < min_cut:\n",
    "                min_cut = res\n",
    "        return min_cut\n",
    "\n",
    "    def random_contraction(self, edges):\n",
    "        n = len(edges)\n",
    "        v = [not random.getrandbits(1) for _ in range(n)] #xrange for python 2\n",
    "        res = 0\n",
    "        for i in range(n):\n",
    "            if v[i]:\n",
    "                for e in edges[i]:\n",
    "                    if not v[e]:\n",
    "                        res += 1\n",
    "        return res"
   ]
  },
  {
   "cell_type": "code",
   "execution_count": 22,
   "metadata": {
    "collapsed": false
   },
   "outputs": [
    {
     "data": {
      "text/plain": [
       "1106"
      ]
     },
     "execution_count": 22,
     "metadata": {},
     "output_type": "execute_result"
    }
   ],
   "source": [
    "MinCut().run()"
   ]
  },
  {
   "cell_type": "code",
   "execution_count": null,
   "metadata": {
    "collapsed": true
   },
   "outputs": [],
   "source": []
  }
 ],
 "metadata": {
  "kernelspec": {
   "display_name": "Python 3",
   "language": "python",
   "name": "python3"
  },
  "language_info": {
   "codemirror_mode": {
    "name": "ipython",
    "version": 3
   },
   "file_extension": ".py",
   "mimetype": "text/x-python",
   "name": "python",
   "nbconvert_exporter": "python",
   "pygments_lexer": "ipython3",
   "version": "3.4.3"
  }
 },
 "nbformat": 4,
 "nbformat_minor": 0
}
