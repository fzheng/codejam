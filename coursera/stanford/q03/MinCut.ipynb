{
 "cells": [
  {
   "cell_type": "code",
   "execution_count": 19,
   "metadata": {
    "collapsed": true
   },
   "outputs": [],
   "source": [
    "import random, sys, math\n",
    "\n",
    "class MinCut(object):\n",
    "    def run(self):\n",
    "        f = open(\"kargerMinCut.txt\", \"r\")\n",
    "        source = [[int(n)-1 for n in line.split()][1:] for line in f]\n",
    "        f.close()\n",
    "        min_cut = sys.maxsize\n",
    "        n = len(source)\n",
    "        N = 10000 #int(n*n*math.log(n))\n",
    "        while N > 0:\n",
    "            res = self.random_contraction(n, source, min_cut)\n",
    "            if res < min_cut:\n",
    "                min_cut = res\n",
    "            N -= 1\n",
    "        return min_cut\n",
    "\n",
    "    def random_contraction(self, n, edges, min_cut):\n",
    "        v = [random.getrandbits(1) for _ in xrange(n)]\n",
    "        res = 0\n",
    "        for i in xrange(n):\n",
    "            if not v[i]:\n",
    "                for e in edges[i]:\n",
    "                    res += v[e]\n",
    "                    if res >= min_cut:\n",
    "                        return res\n",
    "        return res"
   ]
  },
  {
   "cell_type": "code",
   "execution_count": 20,
   "metadata": {
    "collapsed": false
   },
   "outputs": [
    {
     "data": {
      "text/plain": [
       "1122L"
      ]
     },
     "execution_count": 20,
     "metadata": {},
     "output_type": "execute_result"
    }
   ],
   "source": [
    "MinCut().run()"
   ]
  },
  {
   "cell_type": "code",
   "execution_count": null,
   "metadata": {
    "collapsed": true
   },
   "outputs": [],
   "source": []
  }
 ],
 "metadata": {
  "kernelspec": {
   "display_name": "Python 2",
   "language": "python",
   "name": "python2"
  },
  "language_info": {
   "codemirror_mode": {
    "name": "ipython",
    "version": 2
   },
   "file_extension": ".py",
   "mimetype": "text/x-python",
   "name": "python",
   "nbconvert_exporter": "python",
   "pygments_lexer": "ipython2",
   "version": "2.7.10"
  }
 },
 "nbformat": 4,
 "nbformat_minor": 0
}
