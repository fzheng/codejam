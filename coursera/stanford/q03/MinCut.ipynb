{
 "cells": [
  {
   "cell_type": "code",
   "execution_count": 76,
   "metadata": {
    "collapsed": true
   },
   "outputs": [],
   "source": [
    "import random, sys, math\n",
    "\n",
    "class MinCut(object):\n",
    "    def run(self):\n",
    "        f = open(\"kargerMinCut.txt\", \"r\")\n",
    "        src = [[int(n)-1 for n in line.split()][1:] for line in f]\n",
    "        n = len(src)\n",
    "        for i in xrange(n):\n",
    "            x = [0]*n\n",
    "            for j in src[i]:\n",
    "                x[j] += 1\n",
    "            src[i] = x\n",
    "        f.close()\n",
    "        min_cut = sys.maxsize\n",
    "        N = int(n*n*math.log(n))\n",
    "        while N > 0:\n",
    "            edges = [_[:] for _ in src]\n",
    "            v = [_ for _ in xrange(n)]\n",
    "            end = n-1\n",
    "            while end > 1:\n",
    "                i = random.randrange(0, end+1)\n",
    "                p = v[i]\n",
    "                v[0], v[i] = v[i], v[0]\n",
    "                j = random.randrange(1, end+1)\n",
    "                q = v[j]\n",
    "                v[end], v[j] = v[j], v[end]\n",
    "                for j in xrange(n):\n",
    "                    edges[p][j] += edges[q][j]\n",
    "                for i in xrange(end):\n",
    "                    x = edges[v[i]]\n",
    "                    x[p] += x[q]\n",
    "                    x[q] = 0\n",
    "                edges[p][p] = 0\n",
    "                end -= 1\n",
    "            res = sum(edges[v[0]])\n",
    "            res2 = sum(edges[v[1]])\n",
    "            assert res == res2\n",
    "            if res < min_cut:\n",
    "                min_cut = res\n",
    "            if N%10000 == 0:\n",
    "                print \"min_cut=%d, N=%d\"%(min_cut, N)\n",
    "            N -= 1\n",
    "        return min_cut\n"
   ]
  },
  {
   "cell_type": "code",
   "execution_count": 77,
   "metadata": {
    "collapsed": false,
    "scrolled": false
   },
   "outputs": [
    {
     "name": "stdout",
     "output_type": "stream",
     "text": [
      "min_cut=20, N=210000\n",
      "min_cut=20, N=200000\n",
      "min_cut=20, N=190000\n",
      "min_cut=20, N=180000\n",
      "min_cut=20, N=170000\n",
      "min_cut=20, N=160000\n",
      "min_cut=20, N=150000\n",
      "min_cut=20, N=140000\n",
      "min_cut=20, N=130000\n",
      "min_cut=20, N=120000\n",
      "min_cut=20, N=110000\n",
      "min_cut=20, N=100000\n",
      "min_cut=20, N=90000\n",
      "min_cut=20, N=80000\n",
      "min_cut=20, N=70000\n",
      "min_cut=20, N=60000\n",
      "min_cut=20, N=50000\n",
      "min_cut=20, N=40000\n",
      "min_cut=20, N=30000\n",
      "min_cut=20, N=20000\n",
      "min_cut=20, N=10000\n"
     ]
    },
    {
     "data": {
      "text/plain": [
       "20"
      ]
     },
     "execution_count": 77,
     "metadata": {},
     "output_type": "execute_result"
    }
   ],
   "source": [
    "MinCut().run()"
   ]
  },
  {
   "cell_type": "code",
   "execution_count": null,
   "metadata": {
    "collapsed": true
   },
   "outputs": [],
   "source": []
  },
  {
   "cell_type": "code",
   "execution_count": 75,
   "metadata": {
    "collapsed": false
   },
   "outputs": [
    {
     "name": "stdout",
     "output_type": "stream",
     "text": [
      "Result = 17\n"
     ]
    }
   ],
   "source": [
    "import copy\n",
    "import random\n",
    "\n",
    "def contraCut(mapD,edgeList):\n",
    "    while len(mapD)>2:\n",
    "        [u,v]=edgeList.pop(random.randrange(0,len(edgeList)-1))\n",
    "        while([v,u] in edgeList):\n",
    "            edgeList.remove([v,u])\n",
    "        while([u,v] in edgeList):\n",
    "            edgeList.remove([u,v])\n",
    "        for ind in range(0,len(edgeList)):\n",
    "            if edgeList[ind][0]==v:edgeList[ind][0]=u\n",
    "            if edgeList[ind][1]==v:edgeList[ind][1]=u\n",
    "        mapD[u]=mapD[u]-{v}\n",
    "        mapD[v]=mapD[v]-{u}\n",
    "        for [x,y] in mapD.items():\n",
    "            if v in y:\n",
    "                mapD[x]=(mapD[x]|{u})-{v}\n",
    "        mapD[u]=mapD[u]|mapD[v]\n",
    "        del mapD[v]\n",
    "\n",
    "    return len(edgeList)/2\n",
    "\n",
    "if __name__ == '__main__':\n",
    "    f=open('kargerMinCut.txt','r')\n",
    "    # f=open('testMinCut2.txt', 'r')\n",
    "    mapDict={}\n",
    "    for line in f.readlines():\n",
    "        tmp=[int(x) for x in line.split()]\n",
    "        mapDict[tmp[0]]=set(tmp[1:])\n",
    "    f.close()\n",
    "    \n",
    "    edgeList=[]\n",
    "    for [x,y] in mapDict.items():\n",
    "        edgeList.extend([[x,v] for v in y])\n",
    "    \n",
    "    minNum = 2**100\n",
    "    for i in range(200):\n",
    "        cpmapDict=copy.deepcopy(mapDict)\n",
    "        cpedgeList=copy.deepcopy(edgeList)\n",
    "        \n",
    "        num=contraCut(cpmapDict,cpedgeList)\n",
    "        if num < minNum:\n",
    "            minNum = num\n",
    "\n",
    "    print(\"Result = \" + str(minNum))\n"
   ]
  },
  {
   "cell_type": "code",
   "execution_count": null,
   "metadata": {
    "collapsed": true
   },
   "outputs": [],
   "source": []
  },
  {
   "cell_type": "code",
   "execution_count": null,
   "metadata": {
    "collapsed": true
   },
   "outputs": [],
   "source": []
  }
 ],
 "metadata": {
  "kernelspec": {
   "display_name": "Python 2",
   "language": "python",
   "name": "python2"
  },
  "language_info": {
   "codemirror_mode": {
    "name": "ipython",
    "version": 2
   },
   "file_extension": ".py",
   "mimetype": "text/x-python",
   "name": "python",
   "nbconvert_exporter": "python",
   "pygments_lexer": "ipython2",
   "version": "2.7.6"
  }
 },
 "nbformat": 4,
 "nbformat_minor": 0
}
