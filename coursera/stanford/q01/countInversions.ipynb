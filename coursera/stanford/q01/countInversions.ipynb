{
 "cells": [
  {
   "cell_type": "code",
   "execution_count": 10,
   "metadata": {
    "collapsed": false
   },
   "outputs": [
    {
     "name": "stdout",
     "output_type": "stream",
     "text": [
      "100000\n"
     ]
    }
   ],
   "source": [
    "f = open(\"IntegerArray.txt\", \"r\")\n",
    "source = [int(line) for line in f]\n",
    "f.close()"
   ]
  },
  {
   "cell_type": "code",
   "execution_count": 8,
   "metadata": {
    "collapsed": true
   },
   "outputs": [],
   "source": [
    "class Solution:\n",
    "    def countInversions(self, arr):\n",
    "        return self.doSort(arr, 0, len(arr)-1)\n",
    "\n",
    "    def doSort(self, arr, p, q):\n",
    "        if p == q:\n",
    "            return 0\n",
    "        k = (p+q)//2\n",
    "        return self.doSort(arr, p, k) + self.doSort(arr, k+1, q) + self.doMerge(arr, p, k, q)\n",
    "\n",
    "    def doMerge(self, arr, p, k, q):\n",
    "        counter = 0\n",
    "        n = q-p+1\n",
    "        x = n*[None]\n",
    "        s = p\n",
    "        t = k+1\n",
    "        for i in xrange(n):\n",
    "            if s > k:\n",
    "                x[i] = arr[t]\n",
    "                t += 1\n",
    "            elif t > q:\n",
    "                x[i] = arr[s]\n",
    "                s += 1\n",
    "            else:\n",
    "                if arr[s] <= arr[t]:\n",
    "                    x[i] = arr[s]\n",
    "                    s += 1\n",
    "                else:\n",
    "                    x[i] = arr[t]\n",
    "                    counter += k-s+1\n",
    "                    t += 1\n",
    "        for i in xrange(n):\n",
    "            arr[p] = x[i]\n",
    "            p += 1\n",
    "        return counter"
   ]
  },
  {
   "cell_type": "code",
   "execution_count": 9,
   "metadata": {
    "collapsed": false
   },
   "outputs": [
    {
     "name": "stdout",
     "output_type": "stream",
     "text": [
      "2407905288\n"
     ]
    }
   ],
   "source": [
    "print Solution().countInversions(source)"
   ]
  },
  {
   "cell_type": "code",
   "execution_count": null,
   "metadata": {
    "collapsed": true
   },
   "outputs": [],
   "source": []
  }
 ],
 "metadata": {
  "kernelspec": {
   "display_name": "Python 2",
   "language": "python",
   "name": "python2"
  },
  "language_info": {
   "codemirror_mode": {
    "name": "ipython",
    "version": 2
   },
   "file_extension": ".py",
   "mimetype": "text/x-python",
   "name": "python",
   "nbconvert_exporter": "python",
   "pygments_lexer": "ipython2",
   "version": "2.7.10"
  }
 },
 "nbformat": 4,
 "nbformat_minor": 0
}
